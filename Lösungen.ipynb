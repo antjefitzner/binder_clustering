{
 "cells": [
  {
   "cell_type": "markdown",
   "metadata": {},
   "source": [
    "# Python Programmieraufgabe und Clustering\n",
    "\n",
    "Von Wikipedia:\n",
    "\"Data Science (von englisch data „Daten“ und science „Wissenschaft“, im Deutschen auch Datenwissenschaft) bezeichnet generell die Extraktion von Wissen aus Daten.\"\n",
    "\n",
    "\n",
    "\"Data Science ist ein interdisziplinäres Wissenschaftsfeld, welches wissenschaftlich fundierte Methoden, Prozesse, Algorithmen und Systeme zur Extraktion von Erkenntnissen, Mustern und Schlüssen sowohl aus strukturierten als auch unstrukturierten Daten ermöglicht[3][4].\n",
    "\n",
    "Der Studiengang Data Science verwendet Techniken und Theorien aus den Fächern Mathematik, Statistik und Informationstechnologie, einschließlich der Signalverarbeitung, verwendet Wahrscheinlichkeitsmodelle des maschinellen Lernens, des statistischen Lernens, der Programmierung, der Datentechnik, der Mustererkennung, der Prognostik, der Modellierung von Unsicherheiten und der Datenlagerung.\n",
    "\n",
    "Personen, die im Bereich Data Science arbeiten, werden als Data Scientist bzw. Datenwissenschaftler bezeichnet, wobei meist speziellere oder Spezialisierungen anderer, übergeordneter Berufsbezeichnungen üblich sind (z. B. Statistiker, Informatiker). \"\n",
    "\n",
    "Im Bereich Data Science analysieren wir große und kleine Datenmengen. Diese Daten liegen oft in Tabellen (wie Excel) vor.\n",
    "\n",
    "\n",
    "### Einstieg\n",
    "Zunächst werden benötigte Pakete installiert. \n",
    "* Numpy und Pandas werden sehr häufig von Data Scientisten genutzt. Mehr dazu später!\n",
    "* CSV wird benötigt, da die Datentabelle eine csv Datei ist. Man kann sie auch in Excel öffnen.\n",
    "* Matplotlib benötigen wir für die Grafiken."
   ]
  },
  {
   "cell_type": "code",
   "execution_count": 1,
   "metadata": {},
   "outputs": [],
   "source": [
    "# import necessary modules\n",
    "\n",
    "import numpy as np\n",
    "import pandas as pd\n",
    "import csv\n",
    "#from matplotlib import pyplot as plt"
   ]
  },
  {
   "cell_type": "markdown",
   "metadata": {},
   "source": [
    "### Einlesen der Daten\n",
    "Aufgabe 1: Lies die Daten aus der Date \"data1.csv\" ein und speichere sie als ein Pandas-Dataframe unter dem Namen \"data\".\n",
    "\n",
    "Aufgabe 2: Lass dir die ersten 10 Zeilen von \"data\" ausgeben."
   ]
  },
  {
   "cell_type": "code",
   "execution_count": 2,
   "metadata": {},
   "outputs": [
    {
     "data": {
      "text/html": [
       "<div>\n",
       "<style scoped>\n",
       "    .dataframe tbody tr th:only-of-type {\n",
       "        vertical-align: middle;\n",
       "    }\n",
       "\n",
       "    .dataframe tbody tr th {\n",
       "        vertical-align: top;\n",
       "    }\n",
       "\n",
       "    .dataframe thead th {\n",
       "        text-align: right;\n",
       "    }\n",
       "</style>\n",
       "<table border=\"1\" class=\"dataframe\">\n",
       "  <thead>\n",
       "    <tr style=\"text-align: right;\">\n",
       "      <th></th>\n",
       "      <th>V1</th>\n",
       "      <th>V2</th>\n",
       "    </tr>\n",
       "  </thead>\n",
       "  <tbody>\n",
       "    <tr>\n",
       "      <th>0</th>\n",
       "      <td>2.072345</td>\n",
       "      <td>-3.241693</td>\n",
       "    </tr>\n",
       "    <tr>\n",
       "      <th>1</th>\n",
       "      <td>17.936710</td>\n",
       "      <td>15.784810</td>\n",
       "    </tr>\n",
       "    <tr>\n",
       "      <th>2</th>\n",
       "      <td>1.083576</td>\n",
       "      <td>7.319176</td>\n",
       "    </tr>\n",
       "    <tr>\n",
       "      <th>3</th>\n",
       "      <td>11.120670</td>\n",
       "      <td>14.406780</td>\n",
       "    </tr>\n",
       "    <tr>\n",
       "      <th>4</th>\n",
       "      <td>23.711550</td>\n",
       "      <td>2.557729</td>\n",
       "    </tr>\n",
       "    <tr>\n",
       "      <th>5</th>\n",
       "      <td>24.169930</td>\n",
       "      <td>32.024780</td>\n",
       "    </tr>\n",
       "    <tr>\n",
       "      <th>6</th>\n",
       "      <td>21.665780</td>\n",
       "      <td>4.892855</td>\n",
       "    </tr>\n",
       "    <tr>\n",
       "      <th>7</th>\n",
       "      <td>4.693684</td>\n",
       "      <td>12.342170</td>\n",
       "    </tr>\n",
       "    <tr>\n",
       "      <th>8</th>\n",
       "      <td>19.211910</td>\n",
       "      <td>-1.121366</td>\n",
       "    </tr>\n",
       "    <tr>\n",
       "      <th>9</th>\n",
       "      <td>4.230391</td>\n",
       "      <td>-4.441536</td>\n",
       "    </tr>\n",
       "  </tbody>\n",
       "</table>\n",
       "</div>"
      ],
      "text/plain": [
       "          V1         V2\n",
       "0   2.072345  -3.241693\n",
       "1  17.936710  15.784810\n",
       "2   1.083576   7.319176\n",
       "3  11.120670  14.406780\n",
       "4  23.711550   2.557729\n",
       "5  24.169930  32.024780\n",
       "6  21.665780   4.892855\n",
       "7   4.693684  12.342170\n",
       "8  19.211910  -1.121366\n",
       "9   4.230391  -4.441536"
      ]
     },
     "execution_count": 2,
     "metadata": {},
     "output_type": "execute_result"
    }
   ],
   "source": [
    "# read data from 'data1.csv' and store the data in variable 'data'\n",
    "data = pd.read_csv('data1.csv')\n",
    "# show first ten rows in 'data'\n",
    "data.head(10)"
   ]
  },
  {
   "cell_type": "markdown",
   "metadata": {},
   "source": [
    "Aufgabe 3: Wähle nur eine Spalte aus und drucke die ersten 10 Zeilen."
   ]
  },
  {
   "cell_type": "code",
   "execution_count": 3,
   "metadata": {},
   "outputs": [
    {
     "data": {
      "text/plain": [
       "0     2.072345\n",
       "1    17.936710\n",
       "2     1.083576\n",
       "3    11.120670\n",
       "4    23.711550\n",
       "5    24.169930\n",
       "6    21.665780\n",
       "7     4.693684\n",
       "8    19.211910\n",
       "9     4.230391\n",
       "Name: V1, dtype: float64"
      ]
     },
     "execution_count": 3,
     "metadata": {},
     "output_type": "execute_result"
    }
   ],
   "source": [
    "data[\"V1\"].head(10)"
   ]
  },
  {
   "cell_type": "markdown",
   "metadata": {},
   "source": [
    "### Visualisierung der Daten\n",
    "\n",
    "Aufgabe 4: Erstelle eine Grafik mit einer der Spalten auf der x-Achse und die andere auf der y-Achse. Die Werte sollen als Punkte dargestellt werden, dies nennen wir ein Scatterdirgramm. Was fällt dir auf? Erkennst du ein Muster?"
   ]
  },
  {
   "cell_type": "code",
   "execution_count": 4,
   "metadata": {},
   "outputs": [],
   "source": [
    "# plt.rcParams['figure.figsize'] = (20, 7)\n",
    "# plt.scatter(data[\"V1\"], data[\"V2\"], c='blue', s =10)"
   ]
  },
  {
   "cell_type": "markdown",
   "metadata": {},
   "source": [
    "### Clustering Methode 1: k-means"
   ]
  },
  {
   "cell_type": "code",
   "execution_count": 5,
   "metadata": {},
   "outputs": [],
   "source": [
    "# # import k-means module and DBSCAN module from sklearn\n",
    "# from sklearn.cluster import KMeans\n",
    "# from sklearn.cluster import DBSCAN"
   ]
  },
  {
   "cell_type": "code",
   "execution_count": 6,
   "metadata": {},
   "outputs": [],
   "source": [
    "# convert pandas dataframe data to numpy array data_array\n",
    "data_array = data.values   \n"
   ]
  },
  {
   "cell_type": "markdown",
   "metadata": {},
   "source": [
    "Aufgabe 5: Jetzt werden Cluster erstellt. Die Anzahl (cluster_num) kann man variieren. Was passiert wenn du verschiedene Anzahlen ausprobierst (maximal 9, sonst müssen noch mehr Farben hinzugefügt werden.)?\n",
    "\n",
    "Aufgabe 6: Überlege dir was ein \"gutes\" Cluster ist? Welche Anzahl von Clustern sind (in diesem Beispiel) gut und warum?\n",
    "\n",
    "Aufgabe 7: Nutze deinen finalen Wert für cluster_num."
   ]
  },
  {
   "cell_type": "code",
   "execution_count": 7,
   "metadata": {},
   "outputs": [],
   "source": [
    "cluster_num = 3 # max 9\n",
    "\n",
    "# kmeans = KMeans(cluster_num).fit(data_array)\n",
    "# clusters = kmeans.labels_\n",
    "# centroids = kmeans.cluster_centers_\n",
    "\n",
    "# fig, plots = plt.subplots()\n",
    "# colors = ['r', 'g', 'b', 'y', 'm', 'c', 'k', 'orange', 'purple']\n",
    "# for cluster_index in range(cluster_num) :\n",
    "#     sub_set = np.array([data_array[i] for i in range(len(data_array)) if clusters[i] == cluster_index])\n",
    "#     if len(sub_set) == 0 :\n",
    "#         continue\n",
    "#     plots.scatter(sub_set[:,0], sub_set[:,1], s = 10, c = colors[cluster_index])\n",
    "# plots.scatter(centroids[:,0], centroids[:,1], marker = '*', s = 300, c = 'k')"
   ]
  },
  {
   "cell_type": "markdown",
   "metadata": {},
   "source": [
    "## Clustering Methode 2: DBSCAN\n",
    "\n",
    "Aufgabe 8: Das gleiche wird mit dem Algorithmus DBSCAN gemacht. Vergleiche die Ergebisse mit k-means. Was fällt dir auf? Welche Methode ist besser und warum?"
   ]
  },
  {
   "cell_type": "code",
   "execution_count": 8,
   "metadata": {},
   "outputs": [],
   "source": [
    "# dbscan = DBSCAN(eps = 6, min_samples= 10).fit(data_array)\n",
    "# clusters = dbscan.labels_\n",
    "# cluster_indexs = np.unique(clusters).tolist()\n",
    "# print(cluster_indexs)\n",
    "\n",
    "# fig, plots = plt.subplots()\n",
    "# for cluster_index in cluster_indexs :\n",
    "#     sub_set = np.array([data_array[i] for i in range(len(data_array)) if clusters[i] == cluster_index])\n",
    "#     if len(sub_set) == 0 :\n",
    "#         continue\n",
    "#     plots.scatter(sub_set[:,0], sub_set[:,1], s = 10, c = colors[cluster_index])\n"
   ]
  }
 ],
 "metadata": {
  "kernelspec": {
   "display_name": "Python 3 (ipykernel)",
   "language": "python",
   "name": "python3"
  },
  "language_info": {
   "codemirror_mode": {
    "name": "ipython",
    "version": 3
   },
   "file_extension": ".py",
   "mimetype": "text/x-python",
   "name": "python",
   "nbconvert_exporter": "python",
   "pygments_lexer": "ipython3",
   "version": "3.8.13"
  }
 },
 "nbformat": 4,
 "nbformat_minor": 4
}
