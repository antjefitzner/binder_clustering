{
 "cells": [
  {
   "cell_type": "markdown",
   "metadata": {},
   "source": [
    "# Python Programmieraufgabe und Clustering\n",
    "\n",
    "## Über Data Science\n",
    "Data Science setzt sich aus den Worten data \"Daten\" und science \"Wissenschaft\" zusammen. Im Deutschen also Datenwissenschaft und es geht ím generellen um die Extraktion von Wissen, Erkenntnissen und Mustern aus Daten.\n",
    "\n",
    "Data Science ist ein interdisziplinäres Wissenschaftsfeld und spezifische Studiengänge (meist eine spätere Spezialisierung) gibt es erst seit kurzem. Es finden sich hier viele Informatiker*innen, Mathematiker*innen, Physiker*innen, aber auch andere sind hier zu finden. Dies sind Data Scientist oder Datenwissenschafter*in. Aber auch hier finden sich andere Bezeichnungen für gleiche Tätigkeitsbereiche.\n",
    "\n",
    "Die Basis sind sowohl strukturierte Datenquellen wie Tabellen (beispielsweise Excel) oder unstrukturierte Daten (beispielsweise Dokumnete mit Text oder Bilder).\n",
    "\n",
    "Ein großer Bereich ist das maschinelle Lernen, welches ein Teilbereich der Künstlichen Intelligenz ist. Hier werden unter anderem statistische und stochastische Methoden verwendet um Muster zu finden und Prognosen zu erstellen.\n",
    "\n",
    "## Aufgabe\n",
    "Wir möchten mit einem kleinen Projekt versteckte Muster in Daten finden und visualisieren. Hierzu verwenden wir die Programmiersprache python in einem sogenannten Notebook online. Im Gegensatz zu klassichen Programmen können wir hier die Zellen einzeln ausführen und uns Zwischenergebnisse ansehen. Die Zellen können verändert und Schritt für Schritt ausgeführt werden. Du kannst auch neue Zellen hinzufügen, wenn du etwas ausprobieren möchtest.\n",
    "\n",
    "#### Einstieg\n",
    "Zunächst werden benötigte Pakete installiert. \n",
    "* Numpy und Pandas werden sehr häufig von Data Scientisten genutzt. Mehr dazu später!\n",
    "* CSV wird benötigt, da die Datentabelle eine csv Datei ist. Man kann sie auch in Excel öffnen.\n",
    "* Matplotlib benötigen wir für die Grafiken."
   ]
  },
  {
   "cell_type": "code",
   "execution_count": null,
   "metadata": {},
   "outputs": [],
   "source": [
    "# import necessary modules\n",
    "\n",
    "import numpy as np\n",
    "import pandas as pd\n",
    "import csv\n",
    "from matplotlib import pyplot as plt"
   ]
  },
  {
   "cell_type": "markdown",
   "metadata": {},
   "source": [
    "### Einlesen der Daten\n",
    "Die Datenpunkte sind in einer CSV Datei gespeichert. Dies ist eine Datei mit Datenpunkten im Tabellenformat, allerdings sind die einzelnen Spalten mit einem Komma voneinander getrennt.\n",
    "Man kann diese Datei in Excel oder in einem Texteditor öffnen.\n",
    "\n",
    "Aufgabe 1: Lies die Daten aus der Date \"data1.csv\" ein und speichere sie als ein Pandas-Dataframe unter dem Namen \"data\". Hier findest du Informationen zum Einlesen von: https://statisquo.de/2018/08/27/csv-dateien-in-python-importieren-mit-pandas/ \n",
    "\n",
    "Aufgabe 2: Lass dir die ersten 10 Zeilen von \"data\" ausgeben. Nutze hierzu diese Seite: https://www.delftstack.com/de/howto/python-pandas/get-first-row-of-dataframe-pandas/ "
   ]
  },
  {
   "cell_type": "code",
   "execution_count": null,
   "metadata": {},
   "outputs": [],
   "source": [
    "# read data from 'data1.csv' and store the data in variable 'data'\n",
    "data = \n",
    "\n",
    "# show first ten rows in 'data'\n"
   ]
  },
  {
   "cell_type": "markdown",
   "metadata": {},
   "source": [
    "Für die nächsten Aufgaben benötigen wir die Spalten separat.\n",
    "\n",
    "Aufgabe 3: Wähle nur eine Spalte aus und drucke die ersten 10 Zeilen. Es gibt verschiedene Möglichkeiten: https://www.delftstack.com/de/howto/python-pandas/pandas-select-columns/ "
   ]
  },
  {
   "cell_type": "code",
   "execution_count": null,
   "metadata": {},
   "outputs": [],
   "source": []
  },
  {
   "cell_type": "markdown",
   "metadata": {},
   "source": [
    "### Visualisierung der Daten\n",
    "\n",
    "Jetzt möchten wir die Daten visualisieren. Hier findest du Informationen zum erstellen von Grafiken: https://www.delftstack.com/de/tags/matplotlib-scatter-plot/\n",
    "\n",
    "Aufgabe 4: Erstelle eine Grafik mit einer der Spalten auf der x-Achse und die andere auf der y-Achse. Die Werte sollen als Punkte dargestellt werden, dies nennen wir ein Scatterdiagramm. Was fällt dir auf? Erkennst du ein Muster?"
   ]
  },
  {
   "cell_type": "code",
   "execution_count": null,
   "metadata": {},
   "outputs": [],
   "source": []
  },
  {
   "cell_type": "markdown",
   "metadata": {},
   "source": [
    "### Clustering Methode 1: k-means\n",
    "\n",
    "Jetzt geht es ans Eingemachte! Wir möchten einen Algorithmus nutzen, der Muster in den Daten finden soll. Hierzu nutzenn wir den k-means Algorithmus und importieren dieses Modul.\n",
    "Ein wenig mehr Informationen findest du beispielsweise hier: https://www.micromata.de/blog/k-means-clustering-big-data/ und hier: https://www-m9.ma.tum.de/material/felix-klein/clustering/Methoden/K-Means.php \n",
    "\n",
    "Der Algorithmus macht die ganze Arbeit für uns!\n"
   ]
  },
  {
   "cell_type": "code",
   "execution_count": null,
   "metadata": {},
   "outputs": [],
   "source": [
    "# import k-means module from sklearn\n",
    "from sklearn.cluster import KMeans"
   ]
  },
  {
   "cell_type": "code",
   "execution_count": null,
   "metadata": {},
   "outputs": [],
   "source": [
    "# convert pandas dataframe data to numpy array data_array\n",
    "data_array = data.values   \n"
   ]
  },
  {
   "cell_type": "markdown",
   "metadata": {},
   "source": [
    "Aufgabe 5: Jetzt werden Cluster erstellt. Die Anzahl (cluster_num) kann man variieren. Was passiert wenn du verschiedene Anzahlen ausprobierst (maximal 9, sonst müssen noch mehr Farben hinzugefügt werden.)?\n",
    "\n",
    "Aufgabe 6: Überlege dir was ein \"gutes\" Cluster ist? Welche Anzahl von Clustern sind (in diesem Beispiel) gut und warum?\n",
    "\n",
    "Aufgabe 7: Nutze deinen finalen Wert für cluster_num."
   ]
  },
  {
   "cell_type": "code",
   "execution_count": null,
   "metadata": {},
   "outputs": [],
   "source": [
    "cluster_num = 3 # max 9\n",
    "\n",
    "kmeans = KMeans(cluster_num).fit(data_array)\n",
    "clusters = kmeans.labels_\n",
    "centroids = kmeans.cluster_centers_\n",
    "\n",
    "fig, plots = plt.subplots()\n",
    "colors = ['r', 'g', 'b', 'y', 'm', 'c', 'k', 'orange', 'purple']\n",
    "for cluster_index in range(cluster_num) :\n",
    "    sub_set = np.array([data_array[i] for i in range(len(data_array)) if clusters[i] == cluster_index])\n",
    "    if len(sub_set) == 0 :\n",
    "        continue\n",
    "    plots.scatter(sub_set[:,0], sub_set[:,1], s = 10, c = colors[cluster_index])\n",
    "plots.scatter(centroids[:,0], centroids[:,1], marker = '*', s = 300, c = 'k')"
   ]
  },
  {
   "cell_type": "markdown",
   "metadata": {},
   "source": [
    "## Clustering Methode 2: DBSCAN\n",
    "\n",
    "Das gleiche wird mit dem Algorithmus DBSCAN gemacht. Mehr Informationen findest du hier:\n",
    "https://www-m9.ma.tum.de/material/felix-klein/clustering/Methoden/Dichteverbundenes_Clustern.php\n",
    "\n",
    "Aufgabe 8: Vergleiche die Ergebisse mit k-means. Was fällt dir auf? Welche Methode ist besser und warum?"
   ]
  },
  {
   "cell_type": "code",
   "execution_count": null,
   "metadata": {},
   "outputs": [],
   "source": [
    "# import DBSCAN module from sklearn\n",
    "from sklearn.cluster import DBSCAN"
   ]
  },
  {
   "cell_type": "code",
   "execution_count": null,
   "metadata": {},
   "outputs": [],
   "source": [
    "dbscan = DBSCAN(eps = 6, min_samples= 10).fit(data_array)\n",
    "clusters = dbscan.labels_\n",
    "cluster_indexs = np.unique(clusters).tolist()\n",
    "print(cluster_indexs)\n",
    "\n",
    "fig, plots = plt.subplots()\n",
    "for cluster_index in cluster_indexs :\n",
    "    sub_set = np.array([data_array[i] for i in range(len(data_array)) if clusters[i] == cluster_index])\n",
    "    if len(sub_set) == 0 :\n",
    "        continue\n",
    "    plots.scatter(sub_set[:,0], sub_set[:,1], s = 10, c = colors[cluster_index])\n"
   ]
  },
  {
   "cell_type": "markdown",
   "metadata": {},
   "source": [
    "### Abschluss\n",
    "\n",
    "Wir haben die Daten im 2 dimensionalen Raum geclustert. Dies kann man auch in vielen mehr Dimensionen wie beispielsweise 1000 Dimensionen ausführen. Dies kann man sich nur noch schwer vorstellen, aber auch hier werden Muster entdeckt, die für weitere Analysen genutzt werden können."
   ]
  }
 ],
 "metadata": {
  "kernelspec": {
   "display_name": "Python 3 (ipykernel)",
   "language": "python",
   "name": "python3"
  },
  "language_info": {
   "codemirror_mode": {
    "name": "ipython",
    "version": 3
   },
   "file_extension": ".py",
   "mimetype": "text/x-python",
   "name": "python",
   "nbconvert_exporter": "python",
   "pygments_lexer": "ipython3",
   "version": "3.8.11"
  }
 },
 "nbformat": 4,
 "nbformat_minor": 4
}
